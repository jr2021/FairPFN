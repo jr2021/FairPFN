{
 "cells": [
  {
   "cell_type": "code",
   "execution_count": null,
   "metadata": {},
   "outputs": [
    {
     "ename": "",
     "evalue": "",
     "output_type": "error",
     "traceback": [
      "\u001b[1;31mThe kernel failed to start as the Python Environment 'fairpfn_interface (Python -1.-1.-1)' is no longer available. Consider selecting another kernel or refreshing the list of Python Environments."
     ]
    }
   ],
   "source": [
    "from priors.fairmlp import *\n",
    "import pickle as pkl\n",
    "import torch\n",
    "\n",
    "with open('artifacts/config_sample.pkl', 'rb') as f:\n",
    "    config_sample_ = pkl.load(f)\n",
    "\n",
    "\n",
    "config_sample_['prior_mlp_activations'] = torch.nn.modules.activation.Tanh()\n",
    "config_sample_['num_layers'] = 5\n",
    "config_sample_['prior_mlp_hidden_dim'] = 10\n",
    "config_sample_['num_causes'] = 5\n",
    "config_sample_['noise_std'] = 0.03052169541506959\n",
    "config_sample_['prior_mlp_dropout_prob'] = 3.2991787263429043e-0\n",
    "num_samples = 100\n",
    "\n",
    "prior_dataset = get_batch(batch_size=1, num_features=3, num_prot_attrs=1, seq_len=num_samples, device='cpu', hyperparameters=config_sample_)"
   ]
  },
  {
   "cell_type": "code",
   "execution_count": null,
   "metadata": {},
   "outputs": [],
   "source": []
  }
 ],
 "metadata": {
  "kernelspec": {
   "display_name": "fairpfn_interface",
   "language": "python",
   "name": "python3"
  },
  "language_info": {
   "codemirror_mode": {
    "name": "ipython",
    "version": 3
   },
   "file_extension": ".py",
   "mimetype": "text/x-python",
   "name": "python",
   "nbconvert_exporter": "python",
   "pygments_lexer": "ipython3",
   "version": "undefined.undefined.undefined"
  }
 },
 "nbformat": 4,
 "nbformat_minor": 2
}
